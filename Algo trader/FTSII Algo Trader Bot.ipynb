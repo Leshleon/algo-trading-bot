{
 "cells": [
  {
   "cell_type": "code",
   "execution_count": 60,
   "id": "79535b43-5a36-43e1-b669-b511e98c81ad",
   "metadata": {},
   "outputs": [],
   "source": [
    "import pandas as pd\n",
    "import numpy as np\n",
    "\n",
    "import time\n",
    "import datetime as dt\n",
    "from dateutil.relativedelta import relativedelta\n",
    "\n",
    "import pprint\n",
    "\n",
    "import seaborn as sns\n",
    "import matplotlib.pyplot as plt\n",
    "\n",
    "# Finance packages imports\n",
    "import yfinance as yf\n",
    "from sec_edgar_downloader import Downloader\n",
    "\n",
    "# Web scraping imports\n",
    "from bs4 import BeautifulSoup, SoupStrainer\n",
    "import requests\n",
    "\n",
    "from selenium import webdriver\n",
    "\n",
    "import selenium as selenium\n",
    "from selenium.webdriver.support.ui import Select\n",
    "from selenium.webdriver.common.by import By\n",
    "\n",
    "from IPython.display import clear_output\n",
    "\n",
    "date_now = dt.date.today()"
   ]
  },
  {
   "cell_type": "markdown",
   "id": "dd3a9834-9b9b-4bab-baf2-c75894fede93",
   "metadata": {},
   "source": [
    "## QOL Functions"
   ]
  },
  {
   "cell_type": "code",
   "execution_count": 61,
   "id": "0f121ab2-2cb6-4a2e-8e5f-82930a56c274",
   "metadata": {},
   "outputs": [],
   "source": [
    "def Safe_clear():\n",
    "    input(\"Press enter to continue...\")\n",
    "    clear_output(wait = True)"
   ]
  },
  {
   "cell_type": "code",
   "execution_count": 62,
   "id": "32214dc8-8e19-4686-915a-c8dfe9805422",
   "metadata": {},
   "outputs": [],
   "source": [
    "def Option_input(num_options: int = 0) -> int:\n",
    "\n",
    "    if num_options == 0:\n",
    "        while True:\n",
    "            option = input().strip().lower()\n",
    "            if option == \"yes\":\n",
    "                return 1\n",
    "\n",
    "            elif option == \"no\":\n",
    "                return 0\n",
    "\n",
    "            else:\n",
    "                print(\"Please enter: \\\"yes\\\" or \\\"no\\\"\")\n",
    "                continue      \n",
    "\n",
    "    else:\n",
    "        while True:\n",
    "            try:\n",
    "                option = int(input(\"Please enter the list number only: \"))\n",
    "                if option <= num_options:\n",
    "                    return option\n",
    "        \n",
    "                else:\n",
    "                    print(\"Please enter a valid number from 1 to \", num_options)\n",
    "                    continue\n",
    "    \n",
    "            except ValueError:\n",
    "                print(\"Please enter a valid number from 1 to \", num_options)\n",
    "                continue"
   ]
  },
  {
   "cell_type": "code",
   "execution_count": null,
   "id": "73781e3a-01d4-44a1-8ded-a2171293c34a",
   "metadata": {},
   "outputs": [],
   "source": []
  },
  {
   "cell_type": "markdown",
   "id": "4a8e642f-f975-4395-97e2-1f8eda304db7",
   "metadata": {},
   "source": [
    "## 1. Risk Free Rate"
   ]
  },
  {
   "cell_type": "code",
   "execution_count": 63,
   "id": "87849115-b6f2-4f0b-85c0-f4ae8f298a3c",
   "metadata": {},
   "outputs": [],
   "source": [
    "def Risk_free_rate( ticker: str) -> float:\n",
    "    yf_obj = yf.Ticker(ticker)\n",
    "    current_yield = yf_obj.history(period=\"1d\")[\"Close\"].iloc[-1]\n",
    "    risk_free_rate = current_yield/100\n",
    "    return risk_free_rate"
   ]
  },
  {
   "cell_type": "code",
   "execution_count": null,
   "id": "b4cafafd-062e-4bba-ba60-b615c81da165",
   "metadata": {},
   "outputs": [],
   "source": []
  },
  {
   "cell_type": "markdown",
   "id": "0a9930c2-afa1-4bc2-99ab-33f1e3df7f5b",
   "metadata": {},
   "source": [
    "## 2. Market Premiums"
   ]
  },
  {
   "cell_type": "markdown",
   "id": "e6619ec2-f02e-472f-9009-30cca497f030",
   "metadata": {},
   "source": [
    "### Mature Market Premium (USA)"
   ]
  },
  {
   "cell_type": "markdown",
   "id": "23b57c33-d5d9-4e6e-8630-085b950b1d9e",
   "metadata": {},
   "source": [
    "Implied Equity Risk Premium is a forward looking measure and can be updated daily on easily available data. But, this data is not available to me in any meaningful and tangible form and therefore, trades will be done on an MMP at year - 1"
   ]
  },
  {
   "cell_type": "code",
   "execution_count": 6,
   "id": "5cde9b39-5945-4708-bf8f-689a4478f302",
   "metadata": {},
   "outputs": [],
   "source": [
    "# Calculating the implied equity risk premiums using the S&P 500\n",
    "#    this serves as the baseline equity risk premium on top of which,\n",
    "#    further regional level risks can be added"
   ]
  },
  {
   "cell_type": "code",
   "execution_count": 65,
   "id": "122f65e1-6cf8-426f-bbb6-7e081f20f853",
   "metadata": {},
   "outputs": [],
   "source": [
    "def Mature_market_premium( type: str = \"fcfe\" ) -> float:\n",
    "\n",
    "    implied_erp = pd.read_excel(\"data/histimpl.xlsx\", sheet_name = \"Historical Impl Premiums\", skiprows = 6)[:65]\n",
    "    ierp_ddm = implied_erp.loc[ implied_erp[\"Year\"].astype(\"Int64\") == date_now.year - 1][\"Implied Premium (DDM)\"].iloc[0]\n",
    "    ierp_fcfe = implied_erp.loc[ implied_erp[\"Year\"].astype(\"Int64\") == date_now.year - 1][\"Implied ERP (FCFE)\"].iloc[0]\n",
    "    ierp_fcfe_sustainable_payout = implied_erp.loc[ implied_erp[\"Year\"].astype(\"Int64\") == 2024][\"Implied Premium (FCFE with sustainable Payout)\"].iloc[0]\n",
    "\n",
    "    if type.lower() == \"ddm\":\n",
    "        return ierp_ddm\n",
    "\n",
    "    elif type.lower() == \"fcfe\":\n",
    "        return ierp_fcfe\n",
    "\n",
    "    elif \"fcfe\" in type.lower() and \"sustain\" in type.lower():\n",
    "        return ierp_fcfe_sustainable_payout"
   ]
  },
  {
   "cell_type": "code",
   "execution_count": null,
   "id": "8b30723a-11c7-4fc1-b306-6918c72cc4a5",
   "metadata": {},
   "outputs": [],
   "source": []
  },
  {
   "cell_type": "code",
   "execution_count": null,
   "id": "4fc22919-4f09-4c4a-8c8c-682eac239a52",
   "metadata": {},
   "outputs": [],
   "source": []
  },
  {
   "cell_type": "code",
   "execution_count": null,
   "id": "7d80404a-4dac-43a6-aaad-a59b1f08d7ea",
   "metadata": {},
   "outputs": [],
   "source": []
  },
  {
   "cell_type": "markdown",
   "id": "52254c46-9003-40a5-a62b-77ef6b17bab0",
   "metadata": {},
   "source": [
    "## 3. Country Risk Premium"
   ]
  },
  {
   "cell_type": "markdown",
   "id": "24bd269f-2eeb-42e6-b3af-b0e7c76da568",
   "metadata": {},
   "source": [
    "### 3.1 Relative Equity Volatility - Emerging Markets IEMG / EMB up to date"
   ]
  },
  {
   "cell_type": "markdown",
   "id": "ea731a33-0f37-467c-9260-fc468b5ef2f7",
   "metadata": {},
   "source": [
    "Relative Equity Volatility is being used here to scale the Country Risk Premium (derived from CDS spread) of the focal company.\n",
    "\n",
    "Relative Volatility is measured as:\n",
    "\n",
    "Mean of Annualised Volatility over last 5 years of a Gov Bonds ETF / \n",
    "Mean of Annualised Volatility over last 5 years of a Market Equity ETF\n",
    "\n",
    "Annualised Volatility = std(daily Adj Close of ETF) *  ((no. of trading years) ** 0.5)"
   ]
  },
  {
   "cell_type": "code",
   "execution_count": 4,
   "id": "d8b0a06d-7351-4212-b44a-56f223216499",
   "metadata": {},
   "outputs": [],
   "source": [
    "def Relative_volatility_uptodate() -> float:\n",
    "    \n",
    "    # iShares JP Morgan USD Emerging Markets Bond ETF\n",
    "    emb_adj_close = yf.download(\"EMB\", end = date_now,\n",
    "                                start = date_now - relativedelta(years = 5) , auto_adjust = True)\n",
    "    \n",
    "    # this is not percentage, but fractional, multiply by 100 if you want the percent change\n",
    "    emb_adj_close_pct_change = emb_adj_close.loc[:, (\"Close\", \"EMB\")].pct_change() * 100\n",
    "\n",
    "    # iShares Core MSCI Emerging Markets ETF\n",
    "    iemg_adj_close = yf.download(\"IEMG\", end = date_now,\n",
    "                                 start = date_now - relativedelta(years = 5) , auto_adjust = True)\n",
    "    \n",
    "    # this is not percentage, but fractional, multiply by 100 if you want the percent change\n",
    "    iemg_adj_close_pct_change = iemg_adj_close.loc[:, (\"Close\", \"IEMG\")].pct_change() * 100\n",
    "\n",
    "    iemg_annual_volatility = []\n",
    "    emb_annual_volatility = []\n",
    "    \n",
    "    # the slice object is used to measure annualised volatility  \n",
    "    #                                     = std(Daily data in a year) * root (no. of trading days in the year)\n",
    "    \n",
    "    for i in range(0, 5):\n",
    "        iemg_slice = iemg_adj_close_pct_change.to_frame().loc[date_now - relativedelta(years = 5 - i): date_now - relativedelta(years = 4 - i)]\n",
    "        emb_slice = emb_adj_close_pct_change.to_frame().loc[date_now - relativedelta(years = 5 - i): date_now - relativedelta(years = 4 - i)]\n",
    "        \n",
    "        iemg_slice_annualised_vol = iemg_slice.std().values[0] * (len(iemg_slice)**0.5)\n",
    "        emb_slice_annualised_vol = emb_slice.std().values[0] * (len(emb_slice)**0.5)\n",
    "    \n",
    "        iemg_annual_volatility.append(iemg_slice_annualised_vol)\n",
    "        emb_annual_volatility.append(emb_slice_annualised_vol)\n",
    "    \n",
    "    annual_rel_volatility = [i/s for i,s in zip(iemg_annual_volatility,emb_annual_volatility)]\n",
    "    relative_volatility = np.mean(annual_rel_volatility)\n",
    "    clear_output(wait = True)\n",
    "    \n",
    "    return relative_volatility\n",
    "    \n",
    "    "
   ]
  },
  {
   "cell_type": "code",
   "execution_count": null,
   "id": "69917a77-512e-4bbf-9674-900d4f8bcaa4",
   "metadata": {},
   "outputs": [],
   "source": []
  },
  {
   "cell_type": "markdown",
   "id": "ee7a63e3-72ad-47b8-af96-33bb5020d147",
   "metadata": {},
   "source": [
    "### 3.2 CDS/PRS Spread proxy for CRP"
   ]
  },
  {
   "cell_type": "code",
   "execution_count": 38,
   "id": "a5c9b443-a8c6-4e08-b1a3-570fed739ffc",
   "metadata": {},
   "outputs": [],
   "source": [
    "def Country_risk_premium( country: str ) -> float:\n",
    "    \n",
    "    crp_data = pd.read_excel(\"Country Premiums.xlsx\", sheet_name = \"ERPs by country\", skiprows = 6)\n",
    "    crp = crp_data.loc[crp_data[\"Country\"] == country, \"Country Risk Premium\"].values[0]\n",
    "    \n",
    "    while True:        \n",
    "        print(\"Do you want to use Relative Equity Volatility to scale CRP? Yes/No\")\n",
    "        prompt1 = Option_input()\n",
    "        \n",
    "        if prompt1 == 1:\n",
    "            relative_volatility_uptodate = Relative_volatility_uptodate()\n",
    "            \n",
    "            print(\"Which measure do you want to use?\\n1. Relative Volatility = 1.35 : as calculated by Aswath D. by comparing SCRTEM / EMB at the start of the year 2025\")\n",
    "            print(\"2. Relative Volatility =\", relative_volatility_uptodate,\": Up to date measure by comparing IEMG / EMB\")\n",
    "            print(\"3. Input your own Relative Volatility measure\")\n",
    "            option = Option_input(3)\n",
    "\n",
    "            if option == 1:\n",
    "                relative_volatility_selected = 1.35\n",
    "            elif option == 2:\n",
    "                relative_volatility_selected = relative_volatility_uptodate\n",
    "            elif option == 3:\n",
    "                while True:\n",
    "                    try:\n",
    "                        relative_volatility_selected = float(input(\"Custom Relative Volatility: \"))\n",
    "                        break\n",
    "                    except ValueError:\n",
    "                        print(\"Enter a valid float value.\")\n",
    "                        continue\n",
    "\n",
    "            print(\"CRP of\", country, \"=\", crp)\n",
    "            print(\"You have selected -- > Relative Volatility =\", relative_volatility_selected)\n",
    "            print(\"CRP scaled by relative volatility =\", crp*relative_volatility_selected)\n",
    "            print(\"Yes to Confirm, No to choose again\\n\")\n",
    "            \n",
    "            prompt2 = Option_input()\n",
    "            if prompt2 == 1:\n",
    "                clear_output(wait = True)\n",
    "                return crp*relative_volatility_selected              \n",
    "\n",
    "        if prompt1 == 0:\n",
    "            relative_volatility_selected = 1\n",
    "            print(\"CRP of\", country, \"=\", crp)\n",
    "            print(\"You have selected -- > Relative Volatility =\", relative_volatility_selected, \"[1 = unscaled]\")\n",
    "            print(\"Unscaled CRP =\", crp*relative_volatility_selected)\n",
    "            print(\"Yes to Confirm, No to choose again\\n\")\n",
    "            prompt2 = input()\n",
    "            if prompt2.lower() == \"yes\":\n",
    "                clear_output(wait = True)\n",
    "                return crp*relative_volatility_selected\n",
    "\n",
    "        clear_output(wait = True)\n",
    "        \n",
    "    "
   ]
  },
  {
   "cell_type": "code",
   "execution_count": null,
   "id": "64f64b38-dd3d-4c23-991b-a542142a8a52",
   "metadata": {},
   "outputs": [],
   "source": []
  },
  {
   "cell_type": "markdown",
   "id": "a4cf5533-8ff8-413c-b047-e6a9280951ed",
   "metadata": {},
   "source": [
    "## 4. Tickers Scraping and YF obj creation"
   ]
  },
  {
   "cell_type": "code",
   "execution_count": 52,
   "id": "fc66b068-7cc2-4493-acee-c00e9521c736",
   "metadata": {},
   "outputs": [],
   "source": [
    "def US_FinViz_scrape() -> list[str]:\n",
    "    \n",
    "    driver = webdriver.Chrome()\n",
    "    url = \"https://finviz.com/screener.ashx\"\n",
    "    driver.get(url)\n",
    "    \n",
    "    # filtering in the page\n",
    "    industry_filter = Select(driver.find_element(By.ID, \"fs_ind\"))   \n",
    "    country_filter = Select(driver.find_element(By.ID, \"fs_geo\"))\n",
    "\n",
    "    while True:\n",
    "\n",
    "        clear_output(wait = True)\n",
    "        print(\"Country of trade: USA\\nWhich of the following industries do you wish to focus on? :\")\n",
    "        for i, opt in enumerate(industry_filter.options, 1):\n",
    "            print(f\"{i}. {opt.text}\")\n",
    "\n",
    "        industry = list(enumerate(industry_filter.options, 1))[Option_input(len(industry_filter.options)) - 1][1].text\n",
    "\n",
    "        clear_output(wait = True)\n",
    "        print(\"Country of trade: USA\\nCountry of origin for your companies?\")\n",
    "        for i, opt in enumerate(country_filter.options, 1):\n",
    "            print(f\"{i}. {opt.text}\")\n",
    "        \n",
    "        origin_country = list(enumerate(country_filter.options))[Option_input(len(industry_filter.options)) - 1][1].text\n",
    "  \n",
    "        clear_output(wait = True)\n",
    "        print(\"Confirm the following selection:\\n Industry: \", industry, \"\\n Country of origin: \", origin_country)\n",
    "        print(\"\\nYes to confirm / No to choose again\")\n",
    "        option = Option_input()\n",
    "        if option == 1:\n",
    "            print(\"Please wait.....\")\n",
    "            break\n",
    "\n",
    "    clear_output(wait = True)\n",
    "\n",
    "\n",
    "    industry_filter = Select(driver.find_element(By.ID, \"fs_ind\"))\n",
    "    industry_filter.select_by_visible_text(industry)\n",
    "    country_filter = Select(driver.find_element(By.ID, \"fs_geo\"))\n",
    "    country_filter.select_by_visible_text(origin_country)\n",
    "    \n",
    "    # scraping ticker symbol in the pages under the filter:\n",
    "    tickers = []\n",
    "    pageSelect = Select(driver.find_element(By.ID, \"pageSelect\"))\n",
    "    pages = pageSelect.options\n",
    "    \n",
    "    for i in range(len(pages)):\n",
    "        pageSelect = Select(driver.find_element(By.ID, \"pageSelect\"))\n",
    "        pageSelect.select_by_index(i)\n",
    "        table = driver.find_element(By.CLASS_NAME, \"styled-table-new\")\n",
    "        rows = table.find_elements(By.CLASS_NAME, \"styled-row\")\n",
    "        for i in range(len(rows)):\n",
    "            tickers.append(rows[i].find_elements(By.CSS_SELECTOR, \"td\")[1].text)\n",
    "    \n",
    "    driver.quit()\n",
    "    \n",
    "    return tickers"
   ]
  },
  {
   "cell_type": "code",
   "execution_count": 50,
   "id": "7d28d94b-da3c-478a-b37e-1b58c4a5b5db",
   "metadata": {},
   "outputs": [],
   "source": [
    "def Country_industry_tickers(country: str) -> list[str]:\n",
    "    \n",
    "    if (country == \"United States\"):\n",
    "        tickers = US_FinViz_scrape()\n",
    "\n",
    "    return tickers\n",
    "\n",
    "    "
   ]
  },
  {
   "cell_type": "code",
   "execution_count": null,
   "id": "9fb521fe-40df-46f2-a819-c5b4ba3d74ff",
   "metadata": {},
   "outputs": [],
   "source": [
    "def Tickers_instantiation( tickers: list[str] ) -> :\n",
    "    for ticker in tickers:\n",
    "        "
   ]
  },
  {
   "cell_type": "code",
   "execution_count": null,
   "id": "855cd1fd-33bf-4495-97e4-d248a44acb2e",
   "metadata": {},
   "outputs": [],
   "source": []
  },
  {
   "cell_type": "code",
   "execution_count": null,
   "id": "1880f042-bd03-4fde-9ef4-c7a0c016da67",
   "metadata": {},
   "outputs": [],
   "source": []
  },
  {
   "cell_type": "markdown",
   "id": "ee2e36fb-810c-449b-8c5d-ad794301ddec",
   "metadata": {},
   "source": [
    "## Ticker Class"
   ]
  },
  {
   "cell_type": "code",
   "execution_count": null,
   "id": "d5f5e2c4-32e8-4d65-9e61-4df22a4e061b",
   "metadata": {},
   "outputs": [],
   "source": [
    "class Ticker:\n",
    "    def __init__(self, symbol, date_now):\n",
    "        self.symbol = symbol.upper()\n",
    "        self.yf_obj = yf.Ticker(self.symbol)\n",
    "        \n",
    "        self.start_date = date_now"
   ]
  },
  {
   "cell_type": "code",
   "execution_count": null,
   "id": "d8066fa6-596a-457f-a8a7-c05c98478756",
   "metadata": {},
   "outputs": [],
   "source": []
  },
  {
   "cell_type": "code",
   "execution_count": null,
   "id": "87e533ae-1e88-4d8a-9f5e-5a4041e6f41a",
   "metadata": {},
   "outputs": [],
   "source": []
  },
  {
   "cell_type": "code",
   "execution_count": null,
   "id": "225da4d3-ea33-42ab-afa9-9102fa4dd0ea",
   "metadata": {},
   "outputs": [],
   "source": []
  },
  {
   "cell_type": "markdown",
   "id": "bbed2d99-2e1c-4c9a-b676-98f19d7e9387",
   "metadata": {},
   "source": [
    "## Input Parameters"
   ]
  },
  {
   "cell_type": "code",
   "execution_count": 14,
   "id": "daa71384-629c-4b10-9f91-bbe6c7ce12e8",
   "metadata": {},
   "outputs": [
    {
     "name": "stdout",
     "output_type": "stream",
     "text": [
      "0.04493000030517578\n"
     ]
    }
   ],
   "source": [
    "rf_ticker = \"^TNX\"  # 10 year USTreasury bond\n",
    "rf = Risk_free_rate(rf_ticker)\n",
    "print(rf)"
   ]
  },
  {
   "cell_type": "code",
   "execution_count": 55,
   "id": "579eb80b-46da-411f-a93a-dc7d028a0dcd",
   "metadata": {},
   "outputs": [
    {
     "name": "stdout",
     "output_type": "stream",
     "text": [
      "Available Countries:\n",
      "1. United States\n",
      "Select your country of trade [input option number only]: \n"
     ]
    },
    {
     "name": "stdin",
     "output_type": "stream",
     "text": [
      "Please enter the list number only:  1\n"
     ]
    }
   ],
   "source": [
    "country_options = [\"United States\"]\n",
    "\n",
    "print(\"Available Countries:\")\n",
    "for i, country in enumerate(country_options, 1):\n",
    "      print(f\"{i}. {country}\")\n",
    "\n",
    "print(\"Select your country of trade [input option number only]: \")\n",
    "country_index = Option_input(len(country_options))"
   ]
  },
  {
   "cell_type": "code",
   "execution_count": null,
   "id": "1be882cf-623e-4f30-912b-dbb7254f5462",
   "metadata": {},
   "outputs": [],
   "source": [
    "country_risk_premium = Country_risk_premium(\"United States\")"
   ]
  },
  {
   "cell_type": "code",
   "execution_count": null,
   "id": "053aeb57-714a-485b-89ea-fa2fd59c3b24",
   "metadata": {},
   "outputs": [],
   "source": []
  },
  {
   "cell_type": "code",
   "execution_count": null,
   "id": "d5df155a-df3d-4341-878f-57c6d692178e",
   "metadata": {},
   "outputs": [],
   "source": []
  },
  {
   "cell_type": "code",
   "execution_count": null,
   "id": "3c7b7c5f-5f7b-4e3f-b1ca-f24f184444f5",
   "metadata": {},
   "outputs": [],
   "source": []
  },
  {
   "cell_type": "code",
   "execution_count": null,
   "id": "b3f38011-0d11-4edc-976b-e2c793435bce",
   "metadata": {},
   "outputs": [],
   "source": []
  },
  {
   "cell_type": "code",
   "execution_count": 56,
   "id": "a4bbc5c3-bd91-4d49-b90a-862920dba8fe",
   "metadata": {},
   "outputs": [],
   "source": [
    "lmt = yf.Ticker(\"LMT\")"
   ]
  },
  {
   "cell_type": "code",
   "execution_count": 58,
   "id": "53f93be5-7d7d-4581-b326-31de7e78c74d",
   "metadata": {},
   "outputs": [],
   "source": [
    "dividends = lmt.dividends"
   ]
  },
  {
   "cell_type": "code",
   "execution_count": 59,
   "id": "e584df48-53d0-493b-bf37-07cfaefaa5ae",
   "metadata": {},
   "outputs": [
    {
     "data": {
      "text/plain": [
       "Date\n",
       "1984-05-22 00:00:00-04:00    0.046012\n",
       "1984-08-14 00:00:00-04:00    0.046012\n",
       "1984-11-13 00:00:00-05:00    0.046012\n",
       "1985-02-08 00:00:00-05:00    0.046012\n",
       "1985-05-21 00:00:00-04:00    0.061350\n",
       "                               ...   \n",
       "2024-02-29 00:00:00-05:00    3.150000\n",
       "2024-06-03 00:00:00-04:00    3.150000\n",
       "2024-09-03 00:00:00-04:00    3.150000\n",
       "2024-12-02 00:00:00-05:00    3.300000\n",
       "2025-03-03 00:00:00-05:00    3.300000\n",
       "Name: Dividends, Length: 164, dtype: float64"
      ]
     },
     "execution_count": 59,
     "metadata": {},
     "output_type": "execute_result"
    }
   ],
   "source": [
    "dividends"
   ]
  },
  {
   "cell_type": "code",
   "execution_count": 65,
   "id": "73d8c424-44bd-4533-b123-faa56946b77f",
   "metadata": {},
   "outputs": [
    {
     "ename": "AttributeError",
     "evalue": "'Ticker' object has no attribute 'analyst'",
     "output_type": "error",
     "traceback": [
      "\u001b[1;31m---------------------------------------------------------------------------\u001b[0m",
      "\u001b[1;31mAttributeError\u001b[0m                            Traceback (most recent call last)",
      "Cell \u001b[1;32mIn[65], line 1\u001b[0m\n\u001b[1;32m----> 1\u001b[0m spy\u001b[38;5;241m.\u001b[39manalyst\n",
      "\u001b[1;31mAttributeError\u001b[0m: 'Ticker' object has no attribute 'analyst'"
     ]
    }
   ],
   "source": [
    "spy.analyst"
   ]
  },
  {
   "cell_type": "code",
   "execution_count": 62,
   "id": "91e6203e-e532-418c-9f60-d657df373f4e",
   "metadata": {},
   "outputs": [
    {
     "data": {
      "text/html": [
       "<div>\n",
       "<style scoped>\n",
       "    .dataframe tbody tr th:only-of-type {\n",
       "        vertical-align: middle;\n",
       "    }\n",
       "\n",
       "    .dataframe tbody tr th {\n",
       "        vertical-align: top;\n",
       "    }\n",
       "\n",
       "    .dataframe thead th {\n",
       "        text-align: right;\n",
       "    }\n",
       "</style>\n",
       "<table border=\"1\" class=\"dataframe\">\n",
       "  <thead>\n",
       "    <tr style=\"text-align: right;\">\n",
       "      <th></th>\n",
       "    </tr>\n",
       "  </thead>\n",
       "  <tbody>\n",
       "  </tbody>\n",
       "</table>\n",
       "</div>"
      ],
      "text/plain": [
       "Empty DataFrame\n",
       "Columns: []\n",
       "Index: []"
      ]
     },
     "execution_count": 62,
     "metadata": {},
     "output_type": "execute_result"
    }
   ],
   "source": [
    "spy.cashflow"
   ]
  },
  {
   "cell_type": "code",
   "execution_count": 66,
   "id": "cc589a62-2f07-4fa3-ad47-509ceecc364d",
   "metadata": {},
   "outputs": [
    {
     "data": {
      "text/plain": [
       "{'longBusinessSummary': 'The trust seeks to achieve its investment objective by holding a portfolio of the common stocks that are included in the index, with the weight of each stock in the portfolio substantially corresponding to the weight of such stock in the index.',\n",
       " 'companyOfficers': [],\n",
       " 'executiveTeam': [],\n",
       " 'maxAge': 86400,\n",
       " 'priceHint': 2,\n",
       " 'previousClose': 524.58,\n",
       " 'open': 523.01,\n",
       " 'dayLow': 520.1,\n",
       " 'dayHigh': 536.43,\n",
       " 'regularMarketPreviousClose': 524.58,\n",
       " 'regularMarketOpen': 523.01,\n",
       " 'regularMarketDayLow': 520.1,\n",
       " 'regularMarketDayHigh': 536.43,\n",
       " 'trailingPE': 23.76753,\n",
       " 'volume': 97199285,\n",
       " 'regularMarketVolume': 97199285,\n",
       " 'averageVolume': 70574723,\n",
       " 'averageVolume10days': 149427160,\n",
       " 'averageDailyVolume10Day': 149427160,\n",
       " 'bid': 534.1,\n",
       " 'ask': 534.54,\n",
       " 'bidSize': 8,\n",
       " 'askSize': 22,\n",
       " 'yield': 0.0128,\n",
       " 'totalAssets': 576008880128,\n",
       " 'fiftyTwoWeekLow': 481.8,\n",
       " 'fiftyTwoWeekHigh': 613.23,\n",
       " 'fiftyDayAverage': 574.5602,\n",
       " 'twoHundredDayAverage': 573.9236,\n",
       " 'trailingAnnualDividendRate': 5.662,\n",
       " 'trailingAnnualDividendYield': 0.010793396,\n",
       " 'navPrice': 534.51,\n",
       " 'currency': 'USD',\n",
       " 'tradeable': False,\n",
       " 'category': 'Large Blend',\n",
       " 'ytdReturn': -4.28216,\n",
       " 'beta3Year': 1.0,\n",
       " 'fundFamily': 'SPDR State Street Global Advisors',\n",
       " 'fundInceptionDate': 727660800,\n",
       " 'legalType': 'Exchange Traded Fund',\n",
       " 'threeYearAverageReturn': 0.0824536,\n",
       " 'fiveYearAverageReturn': 0.1560649,\n",
       " 'quoteType': 'ETF',\n",
       " 'symbol': 'SPY',\n",
       " 'language': 'en-US',\n",
       " 'region': 'US',\n",
       " 'typeDisp': 'ETF',\n",
       " 'quoteSourceName': 'Delayed Quote',\n",
       " 'triggerable': True,\n",
       " 'customPriceAlertConfidence': 'HIGH',\n",
       " 'hasPrePostMarketData': True,\n",
       " 'firstTradeDateMilliseconds': 728317800000,\n",
       " 'corporateActions': [],\n",
       " 'postMarketTime': 1744415999,\n",
       " 'regularMarketTime': 1744401600,\n",
       " 'exchange': 'PCX',\n",
       " 'messageBoardId': 'finmb_6160262',\n",
       " 'exchangeTimezoneName': 'America/New_York',\n",
       " 'exchangeTimezoneShortName': 'EDT',\n",
       " 'gmtOffSetMilliseconds': -14400000,\n",
       " 'market': 'us_market',\n",
       " 'esgPopulated': False,\n",
       " 'regularMarketChangePercent': 1.78428,\n",
       " 'regularMarketPrice': 533.94,\n",
       " 'shortName': 'SPDR S&P 500',\n",
       " 'longName': 'SPDR S&P 500 ETF',\n",
       " 'postMarketChangePercent': 0.065545864,\n",
       " 'postMarketPrice': 534.29,\n",
       " 'postMarketChange': 0.3499756,\n",
       " 'regularMarketChange': 9.35999,\n",
       " 'regularMarketDayRange': '520.1 - 536.43',\n",
       " 'fullExchangeName': 'NYSEArca',\n",
       " 'financialCurrency': 'USD',\n",
       " 'averageDailyVolume3Month': 70574723,\n",
       " 'fiftyTwoWeekLowChange': 52.140015,\n",
       " 'fiftyTwoWeekLowChangePercent': 0.108219214,\n",
       " 'fiftyTwoWeekRange': '481.8 - 613.23',\n",
       " 'fiftyTwoWeekHighChange': -79.28998,\n",
       " 'fiftyTwoWeekHighChangePercent': -0.12929893,\n",
       " 'fiftyTwoWeekChangePercent': 5.845976,\n",
       " 'dividendYield': 1.28,\n",
       " 'trailingThreeMonthReturns': -4.28216,\n",
       " 'trailingThreeMonthNavReturns': -4.28216,\n",
       " 'netAssets': 576008880000.0,\n",
       " 'epsTrailingTwelveMonths': 22.465103,\n",
       " 'sharesOutstanding': 917782016,\n",
       " 'bookValue': 429.22,\n",
       " 'fiftyDayAverageChange': -40.62018,\n",
       " 'fiftyDayAverageChangePercent': -0.07069787,\n",
       " 'twoHundredDayAverageChange': -39.98358,\n",
       " 'twoHundredDayAverageChangePercent': -0.06966708,\n",
       " 'netExpenseRatio': 0.0945,\n",
       " 'marketCap': 490040524800,\n",
       " 'priceToBook': 1.2439774,\n",
       " 'sourceInterval': 15,\n",
       " 'exchangeDataDelayedBy': 0,\n",
       " 'cryptoTradeable': False,\n",
       " 'marketState': 'CLOSED',\n",
       " 'trailingPegRatio': None}"
      ]
     },
     "execution_count": 66,
     "metadata": {},
     "output_type": "execute_result"
    }
   ],
   "source": [
    "spy.info"
   ]
  },
  {
   "cell_type": "code",
   "execution_count": null,
   "id": "872403eb-1999-4e62-922c-0b2ad58c224b",
   "metadata": {},
   "outputs": [],
   "source": []
  },
  {
   "cell_type": "code",
   "execution_count": null,
   "id": "412cfdb3-ac41-421b-9f09-b19eea23b7c7",
   "metadata": {},
   "outputs": [],
   "source": []
  },
  {
   "cell_type": "code",
   "execution_count": null,
   "id": "c452b0e8-611a-4398-99fe-6f1201f46ebd",
   "metadata": {},
   "outputs": [],
   "source": []
  },
  {
   "cell_type": "markdown",
   "id": "8c1f536e-567c-4368-8db2-5d65acd088e4",
   "metadata": {},
   "source": [
    "## Ticker instantiation"
   ]
  },
  {
   "cell_type": "code",
   "execution_count": null,
   "id": "e32ba12f-199e-4017-8b58-727d197846f5",
   "metadata": {},
   "outputs": [],
   "source": [
    "dat = yf.Ticker(\"MSFT\")"
   ]
  },
  {
   "cell_type": "code",
   "execution_count": null,
   "id": "6894a7f9-f92b-41c4-9c8e-658a7ef7d11a",
   "metadata": {},
   "outputs": [],
   "source": [
    "pprint.pprint(india_yield.info)"
   ]
  },
  {
   "cell_type": "code",
   "execution_count": null,
   "id": "f15070fa-e14d-4b86-8dfa-8a3b5ca0124a",
   "metadata": {},
   "outputs": [],
   "source": [
    "tnx = yf.Ticker(\"^TNX\")\n",
    "current_yield = tnx.history(period=\"1d\")[\"Close\"].iloc[-1]\n",
    "risk_free_rate = current_yield / 100\n",
    "print(f\"10Y Risk-Free Rate: {risk_free_rate:.4%}\")\n"
   ]
  },
  {
   "cell_type": "code",
   "execution_count": null,
   "id": "b5c811a0-0997-4f2b-b917-aa302898c388",
   "metadata": {},
   "outputs": [],
   "source": [
    "print(f\"10Y Risk-Free Rate: {risk_free_rate:.4f}\")\n"
   ]
  },
  {
   "cell_type": "code",
   "execution_count": null,
   "id": "54fec155-e6ff-40e9-870f-721b786d0896",
   "metadata": {},
   "outputs": [],
   "source": [
    "pprint.pprint(tnx.info)"
   ]
  },
  {
   "cell_type": "code",
   "execution_count": null,
   "id": "977760c3-6f31-4255-a4c4-7b9143eac458",
   "metadata": {},
   "outputs": [],
   "source": [
    "dat.calendar\n"
   ]
  },
  {
   "cell_type": "code",
   "execution_count": null,
   "id": "fab932d6-db0a-480c-9a34-372906665154",
   "metadata": {},
   "outputs": [],
   "source": [
    "dat.analyst_price_targets\n"
   ]
  },
  {
   "cell_type": "code",
   "execution_count": null,
   "id": "4f9520ca-89ba-46aa-89e9-00c7a1c9a36a",
   "metadata": {},
   "outputs": [],
   "source": [
    "dat.quarterly_income_stmt\n"
   ]
  },
  {
   "cell_type": "code",
   "execution_count": null,
   "id": "06394da2-3294-4a40-9bbd-d9abe4aea208",
   "metadata": {},
   "outputs": [],
   "source": [
    "dat.history(period='1mo')\n"
   ]
  },
  {
   "cell_type": "code",
   "execution_count": null,
   "id": "abbb4f93-57b7-47ba-9966-7bb97babbc1d",
   "metadata": {},
   "outputs": [],
   "source": [
    "dat.option_chain(dat.options[0]).calls"
   ]
  },
  {
   "cell_type": "code",
   "execution_count": null,
   "id": "8024570b-cd92-40f1-b126-a2bcb2357da9",
   "metadata": {},
   "outputs": [],
   "source": [
    "dat.options"
   ]
  },
  {
   "cell_type": "code",
   "execution_count": null,
   "id": "fd0fb26f-cf60-4b1a-87da-5a89875e88d2",
   "metadata": {},
   "outputs": [],
   "source": []
  },
  {
   "cell_type": "code",
   "execution_count": null,
   "id": "019e24f7-5e2a-4970-bba9-b9befca30909",
   "metadata": {},
   "outputs": [],
   "source": [
    "data = yf.download(\"MSFT\", period=\"1000d\")\n",
    "print(data)"
   ]
  },
  {
   "cell_type": "code",
   "execution_count": null,
   "id": "e1dd9fe2-01d3-4055-a5aa-e1cc16a381a0",
   "metadata": {},
   "outputs": [],
   "source": []
  }
 ],
 "metadata": {
  "kernelspec": {
   "display_name": "Python 3 (ipykernel)",
   "language": "python",
   "name": "python3"
  },
  "language_info": {
   "codemirror_mode": {
    "name": "ipython",
    "version": 3
   },
   "file_extension": ".py",
   "mimetype": "text/x-python",
   "name": "python",
   "nbconvert_exporter": "python",
   "pygments_lexer": "ipython3",
   "version": "3.11.7"
  }
 },
 "nbformat": 4,
 "nbformat_minor": 5
}
